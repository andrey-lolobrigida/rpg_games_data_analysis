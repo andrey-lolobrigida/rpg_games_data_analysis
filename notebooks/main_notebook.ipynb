{
 "cells": [
  {
   "cell_type": "markdown",
   "id": "e48eb485-1009-4313-ab85-d2c7199b7747",
   "metadata": {
    "tags": []
   },
   "source": [
    "# 0.0 IMPORTS\n"
   ]
  },
  {
   "cell_type": "code",
   "execution_count": 1,
   "id": "a732e1f5-3881-4f57-b72a-12abde5c38d9",
   "metadata": {},
   "outputs": [],
   "source": [
    "import pandas as pd\n",
    "import numpy as np\n",
    "import scipy.stats as st\n",
    "import matplotlib.pyplot as plt"
   ]
  },
  {
   "cell_type": "markdown",
   "id": "46ef1f39-af9b-478c-9d86-03fb3506337e",
   "metadata": {
    "tags": []
   },
   "source": [
    "## 0.1 HELPER FUNCTIONS"
   ]
  },
  {
   "cell_type": "code",
   "execution_count": 2,
   "id": "9a331b8f-24bc-4904-a46a-dee2c2ee53f0",
   "metadata": {},
   "outputs": [],
   "source": [
    "def data_assembly_per_year(rpg_games_data, year_loop_array, release_year, target_data_column):\n",
    "    \n",
    "    year_data_array_index = []\n",
    "    for year in year_loop_array:\n",
    "        year_data_index = rpg_games_data.loc[release_year == year].index\n",
    "        year_data_array_index.append(year_data_index)\n",
    "\n",
    "    target_data_per_year = []\n",
    "    for index in year_data_array_index:\n",
    "        if np.size(target_data_column[index]) == 0:\n",
    "            target_data = 0                                # revisar essa escolha depois. procurar algo na literatura?\n",
    "            target_data_per_year.append(target_data)\n",
    "        \n",
    "        else:\n",
    "            target_data = np.mean(target_data_column[index])        \n",
    "            target_data_per_year.append(target_data)\n",
    "\n",
    "    return target_data_per_year"
   ]
  },
  {
   "cell_type": "markdown",
   "id": "f2ea4f48-e13f-4be3-b47b-aa8ecbf0da0e",
   "metadata": {
    "jp-MarkdownHeadingCollapsed": true
   },
   "source": [
    "## 0.2 PATH DEFINITION"
   ]
  },
  {
   "cell_type": "code",
   "execution_count": 3,
   "id": "f506c738-e8fc-47db-b007-b6992537565a",
   "metadata": {},
   "outputs": [],
   "source": [
    "HOME_PATH = '~/projetos_de_estudo/rpg_games_data_analysis'\n",
    "RAW_DATA_PATH = '/data/raw/'\n",
    "INTERIM_DATA_PATH = '/data/interim/'\n",
    "FIGURES_PATH = ''"
   ]
  },
  {
   "cell_type": "markdown",
   "id": "7d50977e-8ae4-421f-a3e6-6d53d6ed0630",
   "metadata": {},
   "source": [
    "## 0.3 LOADING DATA"
   ]
  },
  {
   "cell_type": "code",
   "execution_count": 4,
   "id": "0af355b1-4598-405a-acbe-187d6bad0c3e",
   "metadata": {},
   "outputs": [
    {
     "data": {
      "text/html": [
       "<div>\n",
       "<style scoped>\n",
       "    .dataframe tbody tr th:only-of-type {\n",
       "        vertical-align: middle;\n",
       "    }\n",
       "\n",
       "    .dataframe tbody tr th {\n",
       "        vertical-align: top;\n",
       "    }\n",
       "\n",
       "    .dataframe thead th {\n",
       "        text-align: right;\n",
       "    }\n",
       "</style>\n",
       "<table border=\"1\" class=\"dataframe\">\n",
       "  <thead>\n",
       "    <tr style=\"text-align: right;\">\n",
       "      <th></th>\n",
       "      <th>steam_id_number</th>\n",
       "      <th>game_title</th>\n",
       "      <th>release_month</th>\n",
       "      <th>release_year</th>\n",
       "      <th>release_price</th>\n",
       "      <th>lowest_estimated_owners_number</th>\n",
       "      <th>highest_estimated_owners_number</th>\n",
       "      <th>average_estimated_owners_number</th>\n",
       "      <th>developer</th>\n",
       "      <th>publisher</th>\n",
       "    </tr>\n",
       "  </thead>\n",
       "  <tbody>\n",
       "    <tr>\n",
       "      <th>0</th>\n",
       "      <td>1</td>\n",
       "      <td>Disco Elysium - The Final Cut</td>\n",
       "      <td>October</td>\n",
       "      <td>2019</td>\n",
       "      <td>39.99</td>\n",
       "      <td>1,000,000</td>\n",
       "      <td>2,000,000</td>\n",
       "      <td>1,500,000</td>\n",
       "      <td>ZA/UM</td>\n",
       "      <td>ZA/UM</td>\n",
       "    </tr>\n",
       "    <tr>\n",
       "      <th>1</th>\n",
       "      <td>2</td>\n",
       "      <td>BioShock</td>\n",
       "      <td>August</td>\n",
       "      <td>2007</td>\n",
       "      <td>4.99</td>\n",
       "      <td>1,000,000</td>\n",
       "      <td>2,000,000</td>\n",
       "      <td>1,500,000</td>\n",
       "      <td>2K Boston, 2K Australia</td>\n",
       "      <td>2K</td>\n",
       "    </tr>\n",
       "    <tr>\n",
       "      <th>2</th>\n",
       "      <td>3</td>\n",
       "      <td>Mass Effect 2 (2010)</td>\n",
       "      <td>January</td>\n",
       "      <td>2010</td>\n",
       "      <td>19.99</td>\n",
       "      <td>1,000,000</td>\n",
       "      <td>2,000,000</td>\n",
       "      <td>1,500,000</td>\n",
       "      <td>BioWare</td>\n",
       "      <td>Electronic Arts</td>\n",
       "    </tr>\n",
       "    <tr>\n",
       "      <th>3</th>\n",
       "      <td>4</td>\n",
       "      <td>Mass Effect 2 Digital Deluxe Edition</td>\n",
       "      <td>January</td>\n",
       "      <td>2010</td>\n",
       "      <td>29.99</td>\n",
       "      <td>1,000,000</td>\n",
       "      <td>2,000,000</td>\n",
       "      <td>1,500,000</td>\n",
       "      <td>BioWare</td>\n",
       "      <td>Electronic Arts</td>\n",
       "    </tr>\n",
       "    <tr>\n",
       "      <th>4</th>\n",
       "      <td>5</td>\n",
       "      <td>Divinity: Original Sin - Enhanced Edition</td>\n",
       "      <td>October</td>\n",
       "      <td>2015</td>\n",
       "      <td>39.99</td>\n",
       "      <td>1,000,000</td>\n",
       "      <td>2,000,000</td>\n",
       "      <td>1,500,000</td>\n",
       "      <td>Larian Studios</td>\n",
       "      <td>Larian Studios</td>\n",
       "    </tr>\n",
       "    <tr>\n",
       "      <th>...</th>\n",
       "      <td>...</td>\n",
       "      <td>...</td>\n",
       "      <td>...</td>\n",
       "      <td>...</td>\n",
       "      <td>...</td>\n",
       "      <td>...</td>\n",
       "      <td>...</td>\n",
       "      <td>...</td>\n",
       "      <td>...</td>\n",
       "      <td>...</td>\n",
       "    </tr>\n",
       "    <tr>\n",
       "      <th>10472</th>\n",
       "      <td>10473</td>\n",
       "      <td>Sunrider: Liberation Day - Captain's Edition</td>\n",
       "      <td>March</td>\n",
       "      <td>2016</td>\n",
       "      <td>24.99</td>\n",
       "      <td>100,000</td>\n",
       "      <td>200,000</td>\n",
       "      <td>150,000</td>\n",
       "      <td>Love in Space</td>\n",
       "      <td>Sekai Project</td>\n",
       "    </tr>\n",
       "    <tr>\n",
       "      <th>10473</th>\n",
       "      <td>10474</td>\n",
       "      <td>Niplheim's Hunter - Branded Azel</td>\n",
       "      <td>January</td>\n",
       "      <td>2019</td>\n",
       "      <td>11.99</td>\n",
       "      <td>20,000</td>\n",
       "      <td>50,000</td>\n",
       "      <td>35,000</td>\n",
       "      <td>Black Train</td>\n",
       "      <td>Kagura Games</td>\n",
       "    </tr>\n",
       "    <tr>\n",
       "      <th>10474</th>\n",
       "      <td>10475</td>\n",
       "      <td>PAGUI打鬼</td>\n",
       "      <td>October</td>\n",
       "      <td>2019</td>\n",
       "      <td>19.99</td>\n",
       "      <td>20,000</td>\n",
       "      <td>20,000</td>\n",
       "      <td>20,000</td>\n",
       "      <td>padendon</td>\n",
       "      <td>padendon</td>\n",
       "    </tr>\n",
       "    <tr>\n",
       "      <th>10475</th>\n",
       "      <td>10476</td>\n",
       "      <td>蓝宝石般的被害妄想少女/Damsel with persecutory delusion</td>\n",
       "      <td>November</td>\n",
       "      <td>2018</td>\n",
       "      <td>4.99</td>\n",
       "      <td>20,000</td>\n",
       "      <td>50,000</td>\n",
       "      <td>35,000</td>\n",
       "      <td>橙光游戏</td>\n",
       "      <td>橙光游戏</td>\n",
       "    </tr>\n",
       "    <tr>\n",
       "      <th>10476</th>\n",
       "      <td>10477</td>\n",
       "      <td>World's Dawn</td>\n",
       "      <td>January</td>\n",
       "      <td>2016</td>\n",
       "      <td>9.99</td>\n",
       "      <td>100,000</td>\n",
       "      <td>200,000</td>\n",
       "      <td>150,000</td>\n",
       "      <td>Wayward Prophet</td>\n",
       "      <td>Wayward Prophet</td>\n",
       "    </tr>\n",
       "  </tbody>\n",
       "</table>\n",
       "<p>10477 rows × 10 columns</p>\n",
       "</div>"
      ],
      "text/plain": [
       "       steam_id_number                                    game_title  \\\n",
       "0                    1                 Disco Elysium - The Final Cut   \n",
       "1                    2                                      BioShock   \n",
       "2                    3                          Mass Effect 2 (2010)   \n",
       "3                    4          Mass Effect 2 Digital Deluxe Edition   \n",
       "4                    5     Divinity: Original Sin - Enhanced Edition   \n",
       "...                ...                                           ...   \n",
       "10472            10473  Sunrider: Liberation Day - Captain's Edition   \n",
       "10473            10474              Niplheim's Hunter - Branded Azel   \n",
       "10474            10475                                       PAGUI打鬼   \n",
       "10475            10476  蓝宝石般的被害妄想少女/Damsel with persecutory delusion   \n",
       "10476            10477                                  World's Dawn   \n",
       "\n",
       "      release_month  release_year  release_price  \\\n",
       "0           October          2019          39.99   \n",
       "1            August          2007           4.99   \n",
       "2           January          2010          19.99   \n",
       "3           January          2010          29.99   \n",
       "4           October          2015          39.99   \n",
       "...             ...           ...            ...   \n",
       "10472         March          2016          24.99   \n",
       "10473       January          2019          11.99   \n",
       "10474       October          2019          19.99   \n",
       "10475      November          2018           4.99   \n",
       "10476       January          2016           9.99   \n",
       "\n",
       "      lowest_estimated_owners_number highest_estimated_owners_number  \\\n",
       "0                          1,000,000                       2,000,000   \n",
       "1                          1,000,000                       2,000,000   \n",
       "2                          1,000,000                       2,000,000   \n",
       "3                          1,000,000                       2,000,000   \n",
       "4                          1,000,000                       2,000,000   \n",
       "...                              ...                             ...   \n",
       "10472                        100,000                         200,000   \n",
       "10473                         20,000                          50,000   \n",
       "10474                         20,000                          20,000   \n",
       "10475                         20,000                          50,000   \n",
       "10476                        100,000                         200,000   \n",
       "\n",
       "      average_estimated_owners_number                developer  \\\n",
       "0                           1,500,000                    ZA/UM   \n",
       "1                           1,500,000  2K Boston, 2K Australia   \n",
       "2                           1,500,000                  BioWare   \n",
       "3                           1,500,000                  BioWare   \n",
       "4                           1,500,000           Larian Studios   \n",
       "...                               ...                      ...   \n",
       "10472                         150,000            Love in Space   \n",
       "10473                          35,000              Black Train   \n",
       "10474                          20,000                 padendon   \n",
       "10475                          35,000                     橙光游戏   \n",
       "10476                         150,000          Wayward Prophet   \n",
       "\n",
       "             publisher  \n",
       "0                ZA/UM  \n",
       "1                   2K  \n",
       "2      Electronic Arts  \n",
       "3      Electronic Arts  \n",
       "4       Larian Studios  \n",
       "...                ...  \n",
       "10472    Sekai Project  \n",
       "10473     Kagura Games  \n",
       "10474         padendon  \n",
       "10475             橙光游戏  \n",
       "10476  Wayward Prophet  \n",
       "\n",
       "[10477 rows x 10 columns]"
      ]
     },
     "execution_count": 4,
     "metadata": {},
     "output_type": "execute_result"
    }
   ],
   "source": [
    "rpg_games_data_raw = pd.read_csv(HOME_PATH + RAW_DATA_PATH + \"rpg_steam_clean.csv\")\n",
    "rpg_games_data_raw"
   ]
  },
  {
   "cell_type": "markdown",
   "id": "85f7c97c-7332-4715-b298-ddd43c740dad",
   "metadata": {},
   "source": [
    "# 1.0 DATA DESCRIPTION"
   ]
  },
  {
   "cell_type": "code",
   "execution_count": 5,
   "id": "b4b9ee0c-3f32-4809-b1c8-7e10d870180f",
   "metadata": {},
   "outputs": [],
   "source": [
    "rpg_games_data1 = rpg_games_data_raw.copy()\n",
    "rpg_games_data1.to_csv(HOME_PATH + INTERIM_DATA_PATH + 'rpg_games_data1.csv')"
   ]
  },
  {
   "cell_type": "markdown",
   "id": "faaf753b-6e2b-4df1-bce1-53d5ab92fae3",
   "metadata": {},
   "source": [
    "## 1.1 DATA FIELDS"
   ]
  },
  {
   "cell_type": "markdown",
   "id": "457f41ad-eca2-468e-ab12-b8b5e1a1240b",
   "metadata": {},
   "source": [
    "Vamos separar os campos de dados relevantes em variáveis separadas, para melhor tratamento e referência a eles ao longo do projeto."
   ]
  },
  {
   "cell_type": "code",
   "execution_count": 6,
   "id": "e5681a5f-5619-4c1d-849d-4bf31d8a4fcd",
   "metadata": {},
   "outputs": [],
   "source": [
    "release_month = rpg_games_data1['release_month']\n",
    "release_year = rpg_games_data1['release_year']\n",
    "release_price = rpg_games_data1['release_price']\n",
    "lowest_estimated_owners_number = rpg_games_data1['lowest_estimated_owners_number']\n",
    "highest_estimated_owners_number = rpg_games_data1['highest_estimated_owners_number']\n",
    "average_estimated_owners_number\t = rpg_games_data1['average_estimated_owners_number']\n",
    "developer = rpg_games_data1['developer']\n",
    "publisher = rpg_games_data1['publisher']"
   ]
  },
  {
   "cell_type": "markdown",
   "id": "4da6981e-7c7c-484f-9787-0c00eb191150",
   "metadata": {
    "jp-MarkdownHeadingCollapsed": true
   },
   "source": [
    "## 1.2 RENAME COLUMNS"
   ]
  },
  {
   "cell_type": "markdown",
   "id": "5492443f-a023-4a01-b3d1-d2f9d6fa0349",
   "metadata": {},
   "source": [
    "Renomearíamos os nomes das colunas para um determinado padrão tipográfico, caso elas já não estivessem padronizadas.\n",
    "Como eles já estão todos num mesmo formato, não faremos nada."
   ]
  },
  {
   "cell_type": "markdown",
   "id": "06248538-106c-4cbc-aeed-9a6ea88615d5",
   "metadata": {
    "jp-MarkdownHeadingCollapsed": true
   },
   "source": [
    "## 1.3 DATA DIMENSIONS"
   ]
  },
  {
   "cell_type": "markdown",
   "id": "8e8b9477-0b9e-41eb-a56b-2c4efc519d93",
   "metadata": {},
   "source": [
    "Listaremos as dimensões das colunas, e armazenaremos tais dimensões em variáveis apropriadas."
   ]
  },
  {
   "cell_type": "code",
   "execution_count": 7,
   "id": "83ff7eea-0e14-40ab-88ca-f077b01f001a",
   "metadata": {},
   "outputs": [],
   "source": [
    "release_month_dim = rpg_games_data1['release_month'].size\n",
    "release_year_dim = rpg_games_data1['release_year'].size\n",
    "release_price_dim = rpg_games_data1['release_price'].size\n",
    "lowest_estimated_owners_number_dim = rpg_games_data1['lowest_estimated_owners_number'].size\n",
    "highest_estimated_owners_number_dim = rpg_games_data1['highest_estimated_owners_number'].size\n",
    "average_estimated_owners_number_dim\t = rpg_games_data1['average_estimated_owners_number'].size\n",
    "developer_dim = rpg_games_data1['developer'].size\n",
    "publisher_dim = rpg_games_data1['publisher'].size"
   ]
  },
  {
   "cell_type": "markdown",
   "id": "7cd0d02b-0e2b-418a-8538-59cdd9c4d02f",
   "metadata": {},
   "source": [
    "## 1.4 DATA TYPES"
   ]
  },
  {
   "cell_type": "markdown",
   "id": "82d860d6-17e8-4e32-a4aa-6263f0c91ca2",
   "metadata": {},
   "source": [
    "Verificaremos o tipo das variáveis da seção 1.1."
   ]
  },
  {
   "cell_type": "code",
   "execution_count": 8,
   "id": "b8d757ee-ef0d-409a-bf83-c2a5a98f89a7",
   "metadata": {},
   "outputs": [
    {
     "data": {
      "text/plain": [
       "steam_id_number                      int64\n",
       "game_title                          object\n",
       "release_month                       object\n",
       "release_year                         int64\n",
       "release_price                      float64\n",
       "lowest_estimated_owners_number      object\n",
       "highest_estimated_owners_number     object\n",
       "average_estimated_owners_number     object\n",
       "developer                           object\n",
       "publisher                           object\n",
       "dtype: object"
      ]
     },
     "execution_count": 8,
     "metadata": {},
     "output_type": "execute_result"
    }
   ],
   "source": [
    "rpg_games_data1.dtypes"
   ]
  },
  {
   "cell_type": "markdown",
   "id": "7a541096-afd8-41c7-a91c-a2a29adebcbc",
   "metadata": {},
   "source": [
    "## 1.5 TYPE CHANGES"
   ]
  },
  {
   "cell_type": "markdown",
   "id": "783a3943-4b78-49ea-a920-0e67bae5020a",
   "metadata": {},
   "source": [
    "Trocaremos os tipos das variáveis para tipos mais apropriados. Exemplo: lowest_estimated_owners_number é uma variável numérica, mas está listada como object.\n",
    "Sendo assim, mudaremos o tipo dela para float64, para sermos capazes de realizar as operações necessárias.\n",
    "Para esse mesmo objetivo, também mudaremos todas as colunas numéricas para vetores do NumPy."
   ]
  },
  {
   "cell_type": "code",
   "execution_count": 9,
   "id": "0b208062-a3e9-4107-8a03-86c29d10e27c",
   "metadata": {},
   "outputs": [],
   "source": [
    "# Substituindo o caracter ' por vazio nas strings:\n",
    "lowest_estimated_owners_number = list(map(lambda str: str.replace(',', ''), lowest_estimated_owners_number)) \n",
    "highest_estimated_owners_number = list(map(lambda str: str.replace(',', ''), highest_estimated_owners_number))\n",
    "average_estimated_owners_number = list(map(lambda str: str.replace(',', ''), average_estimated_owners_number))\n",
    "\n",
    "# Escrevendo as colunas numéricas como vetores do NumPy:\n",
    "release_year = np.asarray(release_year)\n",
    "release_price = np.asarray(release_price)\n",
    "lowest_estimated_owners_number = np.asarray(lowest_estimated_owners_number, dtype=float)\n",
    "highest_estimated_owners_number = np.asarray(highest_estimated_owners_number, dtype=float)\n",
    "average_estimated_owners_number = np.asarray(average_estimated_owners_number, dtype=float)"
   ]
  },
  {
   "cell_type": "markdown",
   "id": "5e4d0169-0211-480b-8d24-ce287d398cb1",
   "metadata": {},
   "source": [
    "## 1.6 CHECK NANS"
   ]
  },
  {
   "cell_type": "markdown",
   "id": "a62b1f99-2443-4b11-95f5-fb30a53e962b",
   "metadata": {},
   "source": [
    "Checaremos se há valores do tipo NaN (Not a Number) em algum dos vetores numéricos."
   ]
  },
  {
   "cell_type": "code",
   "execution_count": 10,
   "id": "80976646-8ec1-41dd-a33b-a7848f4f06f6",
   "metadata": {},
   "outputs": [
    {
     "name": "stdout",
     "output_type": "stream",
     "text": [
      "False\n",
      "False\n",
      "False\n",
      "False\n",
      "False\n"
     ]
    }
   ],
   "source": [
    "print(np.any(np.isnan(release_year)))\n",
    "print(np.any(np.isnan(release_price)))\n",
    "print(np.any(np.isnan(lowest_estimated_owners_number)))\n",
    "print(np.any(np.isnan(highest_estimated_owners_number)))\n",
    "print(np.any(np.isnan(average_estimated_owners_number)))"
   ]
  },
  {
   "cell_type": "markdown",
   "id": "12606e91-715d-440f-b0fa-fd7392f95ab4",
   "metadata": {},
   "source": [
    "## 1.7 FILL OUT NANS\n"
   ]
  },
  {
   "cell_type": "markdown",
   "id": "e0f46715-4227-4c0d-ab00-669dc8903242",
   "metadata": {},
   "source": [
    "Avaliaríamos como tratar/substituir os NaNs indicados na célula anterior. \n",
    "Como não há nenhuma ocorrência, não faremos nada."
   ]
  },
  {
   "cell_type": "markdown",
   "id": "e5a54d7d-b27d-4275-a4d1-60c6b4fb5f36",
   "metadata": {},
   "source": [
    "## 1.8 DESCRIPTIVE STATISTICS"
   ]
  },
  {
   "cell_type": "markdown",
   "id": "f362d22c-8665-4b56-9825-5d162145c41c",
   "metadata": {},
   "source": [
    "Calcularemos os seguintes valores para todas as variáveis (para as quais fizer sentido calcular tais valores):\n",
    "\n",
    "- média \n",
    "- mediana\n",
    "- moda\n",
    "- desvio padrão\n",
    "- skewness\n",
    "- curtoses\n",
    "- min\n",
    "- max\n",
    "- range"
   ]
  },
  {
   "cell_type": "markdown",
   "id": "5b3adbbb-2e5f-498b-bbd4-1fa169500eb6",
   "metadata": {},
   "source": [
    "### 1.8.1 NUMERICAL ATTRIBUTES"
   ]
  },
  {
   "cell_type": "markdown",
   "id": "40a5e267-3570-4cfd-85a6-160f7215f441",
   "metadata": {},
   "source": [
    "Calcularemos os valores acima para as seguintes variáveis numéricas:\n",
    "\n",
    "- release_year\n",
    "- release_price\n",
    "- lowest_estimated_owners_number\n",
    "- highest_estimated_owners_number\n",
    "- average_estimated_owners_number"
   ]
  },
  {
   "cell_type": "code",
   "execution_count": 11,
   "id": "12165dc2-e690-47b5-b0b4-d128ef622bae",
   "metadata": {},
   "outputs": [],
   "source": [
    "# Ano de lançamento\n",
    "release_year_mean = np.mean(release_year)\n",
    "release_year_median = np.median(release_year)\n",
    "release_year_mode = st.mode(release_year, keepdims=False) \n",
    "release_year_std = np.std(release_year)\n",
    "release_year_skew =  st.skew(release_year)\n",
    "release_year_kurtosis = st.kurtosis(release_year)\n",
    "release_year_min = np.min(release_year)\n",
    "release_year_max = np.max(release_year)\n",
    "release_year_range = release_year_max - release_year_min"
   ]
  },
  {
   "cell_type": "code",
   "execution_count": 12,
   "id": "7df4165d-958c-4937-8f9c-9a0f3430c82a",
   "metadata": {},
   "outputs": [],
   "source": [
    "# Preço no lançamento\n",
    "release_price_mean = np.mean(release_price)\n",
    "release_price_median = np.median(release_price)\n",
    "release_price_mode = st.mode(release_price, keepdims=False)\n",
    "release_price_std = np.std(release_price)\n",
    "release_price_skew =  st.skew(release_price)\n",
    "release_price_kurtosis = st.kurtosis(release_price)\n",
    "release_price_min = np.min(release_price)\n",
    "release_price_max = np.max(release_price)\n",
    "release_price_range = release_price_max - release_price_min"
   ]
  },
  {
   "cell_type": "code",
   "execution_count": 13,
   "id": "00cde060-a8fb-46de-bc1c-89b4b8e843b3",
   "metadata": {},
   "outputs": [],
   "source": [
    "# Menor número estimado de compradores\n",
    "lowest_estimated_owners_number_mean = np.mean(lowest_estimated_owners_number)\n",
    "lowest_estimated_owners_number_median = np.median(lowest_estimated_owners_number)\n",
    "lowest_estimated_owners_number_mode = st.mode(lowest_estimated_owners_number, keepdims=False)\n",
    "lowest_estimated_owners_number_std = np.std(lowest_estimated_owners_number)\n",
    "lowest_estimated_owners_number_skew =  st.skew(lowest_estimated_owners_number)\n",
    "lowest_estimated_owners_number_kurtosis = st.kurtosis(lowest_estimated_owners_number)\n",
    "lowest_estimated_owners_number_min = np.min(lowest_estimated_owners_number)\n",
    "lowest_estimated_owners_number_max = np.max(lowest_estimated_owners_number)\n",
    "lowest_estimated_owners_number_range = lowest_estimated_owners_number_max - lowest_estimated_owners_number_min"
   ]
  },
  {
   "cell_type": "code",
   "execution_count": 14,
   "id": "02ed347b-5b78-430a-91c0-01978c6b0394",
   "metadata": {},
   "outputs": [],
   "source": [
    "# Maior número estimado de compradores\n",
    "highest_estimated_owners_number_mean = np.mean(highest_estimated_owners_number)\n",
    "highest_estimated_owners_number_median = np.median(highest_estimated_owners_number)\n",
    "highest_estimated_owners_number_mode = st.mode(highest_estimated_owners_number, keepdims=False)\n",
    "highest_estimated_owners_number_std = np.std(highest_estimated_owners_number)\n",
    "highest_estimated_owners_number_skew =  st.skew(highest_estimated_owners_number)\n",
    "highest_estimated_owners_number_kurtosis = st.kurtosis(highest_estimated_owners_number)\n",
    "highest_estimated_owners_number_min = np.min(highest_estimated_owners_number)\n",
    "highest_estimated_owners_number_max = np.max(highest_estimated_owners_number)\n",
    "highest_estimated_owners_number_range = highest_estimated_owners_number_max - highest_estimated_owners_number_min"
   ]
  },
  {
   "cell_type": "code",
   "execution_count": 15,
   "id": "7625504f-2117-46ad-bc22-ec05f7f5d4a0",
   "metadata": {},
   "outputs": [],
   "source": [
    "# Número médio estimado de compradores\n",
    "average_estimated_owners_number_mean = np.mean(average_estimated_owners_number)\n",
    "average_estimated_owners_number_median = np.median(average_estimated_owners_number)\n",
    "average_estimated_owners_number_mode = st.mode(average_estimated_owners_number, keepdims=False)\n",
    "average_estimated_owners_number_std = np.std(average_estimated_owners_number)\n",
    "average_estimated_owners_number_skew =  st.skew(average_estimated_owners_number)\n",
    "average_estimated_owners_number_kurtosis = st.kurtosis(average_estimated_owners_number)\n",
    "average_estimated_owners_number_min = np.min(average_estimated_owners_number)\n",
    "average_estimated_owners_number_max = np.max(average_estimated_owners_number)\n",
    "average_estimated_owners_number_range = average_estimated_owners_number_max - average_estimated_owners_number_min"
   ]
  },
  {
   "cell_type": "markdown",
   "id": "7b7da119-02c7-4a37-a2f5-e77f84874f64",
   "metadata": {},
   "source": [
    "### 1.8.2 CATEGORICAL ATTRIBUTES"
   ]
  },
  {
   "cell_type": "markdown",
   "id": "7cfea8de-98b0-4e67-a1bb-68c235e0b9b5",
   "metadata": {},
   "source": [
    "Calcularemos a moda (o valor com maior ocorrência), para as seguintes variáveis categóricas:\n",
    "\n",
    "- release_month\n",
    "- developer\n",
    "- publisher"
   ]
  },
  {
   "cell_type": "code",
   "execution_count": 16,
   "id": "9ed67423-3167-43e6-b1c1-be397983c914",
   "metadata": {},
   "outputs": [],
   "source": [
    "# Mês de lançamento\n",
    "release_month_mode = release_month.mode() # sintaxe do pandas\n",
    "\n",
    "# Desenvolvedor\n",
    "developer_mode = developer.mode()\n",
    "\n",
    "# Publicador\n",
    "publisher_mode = publisher.mode()"
   ]
  },
  {
   "cell_type": "markdown",
   "id": "36fb1f0c-fe3d-416e-9b10-0008e8d893c8",
   "metadata": {},
   "source": [
    "## 1.9 EXPLORATORY STATISTICS"
   ]
  },
  {
   "cell_type": "markdown",
   "id": "d3725328-7193-49f9-ba3a-7de5cc82b7ee",
   "metadata": {},
   "source": [
    "### 1.9.1 Numerical Attributes per Year\n",
    "\n",
    "Calcularemos as seguintes métricas estatísticas separadas por ano:\n",
    "\n",
    "- média\n",
    "\n",
    "(mais serão inclusas, conforme fizer sentido)\n",
    "\n",
    "Avaliaremos suas respectivas evoluções ao longo do tempo, para as seguinte variáveis numéricas:\n",
    "\n",
    "- release_price\n",
    "- lowest_estimated_owners_number\n",
    "- highest_estimated_owners_number\n",
    "- average_estimated_owners_number"
   ]
  },
  {
   "cell_type": "code",
   "execution_count": 17,
   "id": "11ba95d0-5338-476e-b7c7-3690678acfe7",
   "metadata": {},
   "outputs": [],
   "source": [
    "# criando um array do intervalo de anos. será usado para avaliar as métricas por ano, e plotar os gráficos\n",
    "year_loop_array = np.arange(release_year_min, release_year_max+1)"
   ]
  },
  {
   "cell_type": "code",
   "execution_count": 18,
   "id": "5ac192f5-aee9-4384-9e8c-e922ae1ef30f",
   "metadata": {},
   "outputs": [],
   "source": [
    "# média de preço no lançamento por ano\n",
    "\n",
    "mean_prince_per_year = data_assembly_per_year(rpg_games_data1, year_loop_array, release_year, release_price)"
   ]
  },
  {
   "cell_type": "code",
   "execution_count": 19,
   "id": "2e3c32b5-23fe-4953-9786-6f14aacebf14",
   "metadata": {},
   "outputs": [],
   "source": [
    "# menor número estimado de compradores por ano\n",
    "\n",
    "lowest_estimated_owners_number_per_year = data_assembly_per_year(rpg_games_data1, year_loop_array, release_year, lowest_estimated_owners_number)"
   ]
  },
  {
   "cell_type": "code",
   "execution_count": 20,
   "id": "9cd71df0-108a-4bed-8b97-d76b355b91a8",
   "metadata": {},
   "outputs": [],
   "source": [
    "# maior número estimado de compradores por ano\n",
    "\n",
    "highest_estimated_owners_number_per_year = data_assembly_per_year(rpg_games_data1, year_loop_array, release_year, highest_estimated_owners_number)"
   ]
  },
  {
   "cell_type": "code",
   "execution_count": 29,
   "id": "8ce5796d-9818-45be-838c-2feff07a2d77",
   "metadata": {},
   "outputs": [],
   "source": [
    "# número médio estimado de compradores por ano\n",
    "\n",
    "average_estimated_owners_number_per_year = data_assembly_per_year(rpg_games_data1, year_loop_array, release_year, average_estimated_owners_number)"
   ]
  },
  {
   "cell_type": "markdown",
   "id": "fa7ee7fd-062a-44c0-b644-00080282299c",
   "metadata": {},
   "source": [
    "### 1.9.2 Data per Year Visualization\n",
    "\n",
    "Plotaremos os gráficos das seguintes variáveis contra os anos, calculadas na secão anterior:\n",
    "\n",
    "- release_price_per_year\n",
    "- lowest_estimated_owners_number_per_year\n",
    "- highest_estimated_owners_number_per_year\n",
    "- average_estimated_owners_number_per_year\n",
    "\n",
    "\n",
    "\n"
   ]
  },
  {
   "cell_type": "code",
   "execution_count": 24,
   "id": "fc7a157c-a017-4c74-8c25-2c3731269763",
   "metadata": {},
   "outputs": [
    {
     "data": {
      "text/plain": [
       "[<matplotlib.lines.Line2D at 0x7fca58e0cb20>]"
      ]
     },
     "execution_count": 24,
     "metadata": {},
     "output_type": "execute_result"
    },
    {
     "data": {
      "image/png": "[encoded data removed]",
      "text/plain": [
       "<Figure size 640x480 with 1 Axes>"
      ]
     },
     "metadata": {},
     "output_type": "display_data"
    }
   ],
   "source": [
    "# média de preço no lançamento por ano\n",
    "plt.plot(year_loop_array, mean_prince_per_year)"
   ]
  },
  {
   "cell_type": "code",
   "execution_count": 25,
   "id": "68d9164b-1ffc-4788-bfa4-b4e33fcca8b5",
   "metadata": {},
   "outputs": [
    {
     "data": {
      "text/plain": [
       "[<matplotlib.lines.Line2D at 0x7fca59bb5300>]"
      ]
     },
     "execution_count": 25,
     "metadata": {},
     "output_type": "execute_result"
    },
    {
     "data": {
      "image/png": "[encoded data removed]",
      "text/plain": [
       "<Figure size 640x480 with 1 Axes>"
      ]
     },
     "metadata": {},
     "output_type": "display_data"
    }
   ],
   "source": [
    "# menor número estimado de compradores por ano\n",
    "plt.plot(year_loop_array, lowest_estimated_owners_number_per_year)"
   ]
  },
  {
   "cell_type": "code",
   "execution_count": 26,
   "id": "a34c45cd-6c55-494b-8fca-3f937ad21342",
   "metadata": {},
   "outputs": [
    {
     "data": {
      "text/plain": [
       "[<matplotlib.lines.Line2D at 0x7fca597aa920>]"
      ]
     },
     "execution_count": 26,
     "metadata": {},
     "output_type": "execute_result"
    },
    {
     "data": {
      "image/png": "[encoded data removed]",
      "text/plain": [
       "<Figure size 640x480 with 1 Axes>"
      ]
     },
     "metadata": {},
     "output_type": "display_data"
    }
   ],
   "source": [
    "# maior número estimado de compradores por ano\n",
    "plt.plot(year_loop_array, highest_estimated_owners_number_per_year)"
   ]
  },
  {
   "cell_type": "code",
   "execution_count": 27,
   "id": "732072c5-5f9f-47fb-b352-73eee7a4625d",
   "metadata": {},
   "outputs": [
    {
     "data": {
      "text/plain": [
       "[<matplotlib.lines.Line2D at 0x7fca596410c0>]"
      ]
     },
     "execution_count": 27,
     "metadata": {},
     "output_type": "execute_result"
    },
    {
     "data": {
      "image/png": "[encoded data removed]",
      "text/plain": [
       "<Figure size 640x480 with 1 Axes>"
      ]
     },
     "metadata": {},
     "output_type": "display_data"
    }
   ],
   "source": [
    "# número médio estimado de compradores por ano\n",
    "plt.plot(year_loop_array, average_estimated_owners_number_per_year)"
   ]
  },
  {
   "cell_type": "code",
   "execution_count": 23,
   "id": "cea50618-1d9a-4f88-9216-ca0170ae750a",
   "metadata": {},
   "outputs": [
    {
     "ename": "NameError",
     "evalue": "name 'rpg_games_data' is not defined",
     "output_type": "error",
     "traceback": [
      "\u001b[0;31m---------------------------------------------------------------------------\u001b[0m",
      "\u001b[0;31mNameError\u001b[0m                                 Traceback (most recent call last)",
      "Cell \u001b[0;32mIn[23], line 1\u001b[0m\n\u001b[0;32m----> 1\u001b[0m compradores_estimados \u001b[38;5;241m=\u001b[39m \u001b[43mrpg_games_data\u001b[49m[\u001b[38;5;124m'\u001b[39m\u001b[38;5;124maverage_estimated_owners_number\u001b[39m\u001b[38;5;124m'\u001b[39m] \n\u001b[1;32m      2\u001b[0m ano_lancamento \u001b[38;5;241m=\u001b[39m rpg_games_data[\u001b[38;5;124m'\u001b[39m\u001b[38;5;124mrelease_year\u001b[39m\u001b[38;5;124m'\u001b[39m]\n\u001b[1;32m      3\u001b[0m a \u001b[38;5;241m=\u001b[39m compradores_estimados\u001b[38;5;241m.\u001b[39msort_values(key\u001b[38;5;241m=\u001b[39m\u001b[38;5;28;01mlambda\u001b[39;00m col: col\u001b[38;5;241m.\u001b[39mstr\u001b[38;5;241m.\u001b[39mreplace(\u001b[38;5;124m'\u001b[39m\u001b[38;5;124m,\u001b[39m\u001b[38;5;124m'\u001b[39m, \u001b[38;5;124m'\u001b[39m\u001b[38;5;124m'\u001b[39m)\u001b[38;5;241m.\u001b[39mastype(\u001b[38;5;124m'\u001b[39m\u001b[38;5;124mfloat64\u001b[39m\u001b[38;5;124m'\u001b[39m)) \u001b[38;5;66;03m# substituindo as strings por floats, e ordenando\u001b[39;00m\n",
      "\u001b[0;31mNameError\u001b[0m: name 'rpg_games_data' is not defined"
     ]
    }
   ],
   "source": [
    "compradores_estimados = rpg_games_data['average_estimated_owners_number'] \n",
    "ano_lancamento = rpg_games_data['release_year']\n",
    "a = compradores_estimados.sort_values(key=lambda col: col.str.replace(',', '').astype('float64')) # substituindo as strings por floats, e ordenando"
   ]
  },
  {
   "cell_type": "code",
   "execution_count": null,
   "id": "9d95f4f8-76d8-4798-af8d-166da2350ef1",
   "metadata": {},
   "outputs": [],
   "source": [
    "b = list(map(lambda str: str.replace(',', ''), a)) # criando um array b usando uma transformação sobre a\n",
    "b = np.asarray(b, dtype=float) # transformando b em um vetor do numpy de floats\n",
    "media = np.mean(b)\n",
    "media"
   ]
  },
  {
   "cell_type": "code",
   "execution_count": null,
   "id": "3c74383a-d3cd-4216-81a9-11c0c8e6d545",
   "metadata": {},
   "outputs": [],
   "source": [
    "c = np.asarray(ano_lancamento, dtype=int)\n",
    "plt.hist(c, bins=40) # plotando o número de jogos lançados no ano "
   ]
  },
  {
   "cell_type": "code",
   "execution_count": null,
   "id": "7df1ac28-e9f8-4d9f-8b03-7137be2fc27e",
   "metadata": {},
   "outputs": [],
   "source": [
    "d19 = tabela.loc[rpg_games_data['release_year'] == 2019] # nessa célula, vamos começar a investigar qual ano vendeu o maior montante de cópias de jogos, e calcular a relação cópia/jogo por ano\n",
    "d20 = tabela.loc[rpg_games_data['release_year'] == 2020]\n",
    "d21 = tabela.loc[rpg_games_data['release_year'] == 2021]\n",
    "\n",
    "copias_d19_str = d19['average_estimated_owners_number']\n",
    "copias_d20_str = d20['average_estimated_owners_number']\n",
    "copias_d21_str = d21['average_estimated_owners_number']\n",
    "\n",
    "copias_d19 = list(map(lambda str: str.replace(',', ''), copias_d19_str))\n",
    "copias_d19 = np.asarray(copias_d19, dtype=float)\n",
    "\n",
    "copias_d20 = list(map(lambda str: str.replace(',', ''), copias_d20_str))\n",
    "copias_d20 = np.asarray(copias_d20, dtype=float)\n",
    "\n",
    "copias_d21 = list(map(lambda str: str.replace(',', ''), copias_d21_str))\n",
    "copias_d21 = np.asarray(copias_d21, dtype=float)\n",
    "\n",
    "total_copias_d19 = np.sum(copias_d19)\n",
    "total_copias_d20 = np.sum(copias_d20)\n",
    "total_copias_d21 = np.sum(copias_d21)"
   ]
  },
  {
   "cell_type": "code",
   "execution_count": null,
   "id": "b011c4ce-9b89-4bcd-a792-da72ddbae946",
   "metadata": {},
   "outputs": [],
   "source": [
    "print(total_copias_d19)\n",
    "print(total_copias_d20)\n",
    "print(total_copias_d21)\n",
    "\n",
    "print(copias_d19.size)\n",
    "print(copias_d20.size)\n",
    "print(copias_d21.size)\n",
    "\n",
    "print(np.mean(copias_d19)) # equivalente a total_copias_d19/copias_d19.size\n",
    "print(np.mean(copias_d20))\n",
    "print(np.mean(copias_d21))\n",
    "\n",
    "# ideia: obter essa média de cópias vendidas por ano para todo o conjunto de amostras, e plotar o gráfico. observar se acompanha a distribuição de número de jogos lançados por ano"
   ]
  },
  {
   "cell_type": "code",
   "execution_count": null,
   "id": "45e22b71-a245-4cf7-b8c6-2733663ae9b6",
   "metadata": {},
   "outputs": [],
   "source": [
    "precos_d19 = d19['release_price'] # análise da média de preço por ano\n",
    "precos_d19 = np.asarray(precos_d19)\n",
    "\n",
    "precos_d20 = d20['release_price']\n",
    "precos_d20 = np.asarray(precos_d20)\n",
    "\n",
    "precos_d21= d21['release_price']\n",
    "precos_d21 = np.asarray(precos_d21)\n",
    "\n",
    "print(np.mean(precos_d19))\n",
    "print(np.mean(precos_d20))\n",
    "print(np.mean(precos_d21))"
   ]
  },
  {
   "cell_type": "code",
   "execution_count": null,
   "id": "82e046e4-0454-4f49-a358-c507b09f0209",
   "metadata": {},
   "outputs": [],
   "source": [
    "big_seller_d19 = np.where(copias_d19>100000) # análise sobre a média de preço para jogos que venderam mais de 100k cópias\n",
    "big_seller_d20 = np.where(copias_d20>100000)\n",
    "big_seller_d21 = np.where(copias_d21>100000)\n",
    "\n",
    "print(np.mean(precos_d19[big_seller_d19]))\n",
    "print(np.mean(precos_d20[big_seller_d20]))\n",
    "print(np.mean(precos_d21[big_seller_d21]))"
   ]
  },
  {
   "cell_type": "code",
   "execution_count": null,
   "id": "7ab144da-4d45-4c73-9243-1a41c37bc1c0",
   "metadata": {},
   "outputs": [],
   "source": [
    "release_year_tab = rpg_games_data1['release_year']\n",
    "\n",
    "oldest_date = np.min(release_year_tab)\n",
    "earliest_date = np.max(release_year_tab)\n",
    "\n",
    "year_array = np.arange(oldest_date, earliest_date+1)\n",
    "\n",
    "year_data_array = []\n",
    "for year in year_array:\n",
    "    year_data = rpg_games_data1.loc[rpg_games_data1['release_year'] == year]\n",
    "    year_data_array.append(year_data)\n",
    "    \n",
    "mean_prices_year = []\n",
    "for year_data in year_data_array:\n",
    "    prices_d = year_data['release_price']\n",
    "    prices_d = np.asarray(prices_d)\n",
    "    mean_price = np.mean(prices_d)\n",
    "    mean_prices_year.append(mean_price)\n",
    "    \n",
    "mean_prices_year = np.asarray(mean_prices_year)    \n",
    "    \n",
    "mean_prices_year[np.isnan(mean_prices_year)] = 0   "
   ]
  },
  {
   "cell_type": "code",
   "execution_count": null,
   "id": "f922ccb0-eb15-4a61-a7fb-65fca16b34ee",
   "metadata": {},
   "outputs": [],
   "source": [
    "plt.plot(year_array, mean_prices_year)"
   ]
  },
  {
   "cell_type": "code",
   "execution_count": null,
   "id": "8c4318ed-97fa-4bff-98fc-ee40d8fa9bf3",
   "metadata": {},
   "outputs": [],
   "source": []
  }
 ],
 "metadata": {
  "kernelspec": {
   "display_name": "poetry_kernel",
   "language": "python",
   "name": "poetry_kernel"
  },
  "language_info": {
   "codemirror_mode": {
    "name": "ipython",
    "version": 3
   },
   "file_extension": ".py",
   "mimetype": "text/x-python",
   "name": "python",
   "nbconvert_exporter": "python",
   "pygments_lexer": "ipython3",
   "version": "3.10.6"
  }
 },
 "nbformat": 4,
 "nbformat_minor": 5
}
